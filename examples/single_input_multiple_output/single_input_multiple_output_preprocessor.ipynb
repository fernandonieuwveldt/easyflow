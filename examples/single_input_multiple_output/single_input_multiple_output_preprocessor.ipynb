{
 "cells": [
  {
   "cell_type": "markdown",
   "source": [
    "# Single Input Multiple Output Preprocessing Layers"
   ],
   "metadata": {}
  },
  {
   "cell_type": "markdown",
   "source": [
    "<img src=\"preprocessing.png\" alt=\"Drawing\" style=\"width: 500px;\"/>\n",
    "\n",
    "*Image taken from https://blog.tensorflow.org/2021/11/an-introduction-to-keras-preprocessing.html*"
   ],
   "metadata": {}
  },
  {
   "cell_type": "markdown",
   "source": [
    "In this example we will show case how to apply different transformations and preprocessing steps on the same feature. What we have here is an example of a **Single input Multiple output** feature transformation scenario.\n",
    "\n",
    "This is what the feature transformation `Pipeline` looks like:\n",
    "\n",
    "                                            Feature\n",
    "                                              /  \\\n",
    "                                             /    \\\n",
    "                                            /      \\\n",
    "                                           /        \\\n",
    "                                      Transform1 Transform2\n",
    "                                             \\    /\n",
    "                                              \\  /\n",
    "                                               \\/\n",
    "                                     Concat into a Single Layer\n",
    "\n",
    "We will be utilizing a library called `easyflow` which implements feature transformation pipelines natively implemented in Keras (https://pypi.org/project/easy-tensorflow/)"
   ],
   "metadata": {}
  },
  {
   "cell_type": "code",
   "execution_count": null,
   "source": [
    "try:\n",
    "    import easyflow\n",
    "except:\n",
    "    ! pip install easy-tensorflow"
   ],
   "outputs": [],
   "metadata": {}
  },
  {
   "cell_type": "code",
   "execution_count": 1,
   "source": [
    "import tensorflow as tf\n",
    "import tensorflow_datasets as tfds\n",
    "\n",
    "from easyflow.preprocessing.pipeline import FeatureUnion\n",
    "from easyflow.preprocessing import (FeatureInputLayer,\n",
    "                                    PreprocessorChain,\n",
    "                                    MultiOutputTransformer\n",
    "                                   )"
   ],
   "outputs": [],
   "metadata": {}
  },
  {
   "cell_type": "markdown",
   "source": [
    "For our example we will use the imdb reviews dataset. The steps here is similar to the preprocessing example on th Tensorflow blog: https://blog.tensorflow.org/2021/11/an-introduction-to-keras-preprocessing.html. We will however make use of the Feature Preprocessing and Transformation Pipelines from the `easyflow` library."
   ],
   "metadata": {}
  },
  {
   "cell_type": "code",
   "execution_count": 2,
   "source": [
    "train_ds = tfds.load('imdb_reviews', split='train', as_supervised=True).batch(32)\n",
    "train_ds = train_ds.map(lambda x, y: ({'review': x}, y))"
   ],
   "outputs": [],
   "metadata": {}
  },
  {
   "cell_type": "markdown",
   "source": [
    "# Create Feature transformation Pipeline"
   ],
   "metadata": {}
  },
  {
   "cell_type": "markdown",
   "source": [
    "Lets create our feature transformation Pipeline. For this example we only have one raw feature; `review` . The transformations that we will be applying is:\n",
    "\n",
    "1) TextVectorization as one step and;\\\n",
    "2) Another step transforming text to the length of the review and than normalizing it.\n",
    "\n",
    "These steps will be concatenated in our final output layer. The transformation layer we will be using is a custom layer implemented in `easyflow` namely `MultiOutputPreprocessor` . This layer takes as input a list of independent preprocessing or transformation steps (composed of layers) that will be applied on the giving feature. `MultiOutputTransformer` is used as a step in `FeaturePreprocessor` and `FeatureUnion` ."
   ],
   "metadata": {}
  },
  {
   "cell_type": "code",
   "execution_count": 3,
   "source": [
    "def TextLengthPipeline():\n",
    "    \"\"\"Create a sequential Pipeline to compute length followed by normalising feature\n",
    "    \"\"\"\n",
    "    return PreprocessorChain([\n",
    "        tf.keras.layers.Lambda(lambda x: tf.strings.length(x)),\n",
    "        tf.keras.layers.Normalization()\n",
    "    ])\n",
    "\n",
    "steps = MultiOutputTransformer([\n",
    "    # transform 1: create multi hot encoder\n",
    "    tf.keras.layers.TextVectorization(output_mode='multi_hot', max_tokens=2500),\n",
    "    # transform 2: get the length of the review\n",
    "    TextLengthPipeline()\n",
    "])\n",
    "\n",
    "pipeline = FeatureUnion([\n",
    "    ('review', steps, ['review'])\n",
    "])\n",
    "\n",
    "pipeline.adapt(train_ds)"
   ],
   "outputs": [
    {
     "output_type": "stream",
     "name": "stderr",
     "text": [
      "2022-04-30 23:46:07.422956: W tensorflow/core/platform/profile_utils/cpu_utils.cc:128] Failed to get CPU frequency: 0 Hz\n"
     ]
    }
   ],
   "metadata": {}
  },
  {
   "cell_type": "code",
   "execution_count": 4,
   "source": [
    "feature_layer_inputs = FeatureInputLayer(\n",
    "    {'review': tf.string}\n",
    ")\n",
    "\n",
    "preprocessed_inputs = pipeline(feature_layer_inputs)"
   ],
   "outputs": [],
   "metadata": {}
  },
  {
   "cell_type": "markdown",
   "source": [
    "Next we will use the common pattern for training by creating a model that applies the preprocessing to speed up training. When we start from raw data as in our example. We need to preprocess all string operations on the CPU and than feed that to a GPU. Preprocessing is also not something that we train and it is independent from the forward pass. This will reduce our throughput as the GPU will be idle while waiting for data. To speed things up we will prefetch batches of preprocessed data. This will ensure that while we processing batch of data on the GPU the CPU is getting the next batch of preprocessed data ready.\n",
    "\n",
    "<img src=\"gpu_cpu_gaps.png\" alt=\"Drawing\" style=\"width: 500px;\"/>\n",
    "\n",
    "*Image taken from https://www.tensorflow.org*"
   ],
   "metadata": {}
  },
  {
   "cell_type": "code",
   "execution_count": 5,
   "source": [
    "# create our preprocessing model\n",
    "preprocessing_model = tf.keras.Model(feature_layer_inputs, preprocessed_inputs)\n",
    "\n",
    "# create training model that will be applied on the forward pass\n",
    "outputs = tf.keras.layers.Dense(1, activation='sigmoid')(preprocessed_inputs)\n",
    "training_model = tf.keras.Model(preprocessed_inputs, outputs)\n",
    "training_model.compile(\n",
    "    optimizer=tf.keras.optimizers.Adam(),\n",
    "    loss=tf.keras.losses.BinaryCrossentropy(),\n",
    "    metrics=[tf.keras.metrics.BinaryAccuracy(name='accuracy'), tf.keras.metrics.AUC(name='auc')])"
   ],
   "outputs": [],
   "metadata": {}
  },
  {
   "cell_type": "code",
   "execution_count": 6,
   "source": [
    "preprocessed_ds = train_ds.map(\n",
    "    lambda x, y: (preprocessing_model(x), y),\n",
    "    num_parallel_calls=tf.data.AUTOTUNE).prefetch(tf.data.AUTOTUNE)"
   ],
   "outputs": [],
   "metadata": {}
  },
  {
   "cell_type": "code",
   "execution_count": 7,
   "source": [
    "training_model.fit(preprocessed_ds, epochs=5)"
   ],
   "outputs": [
    {
     "output_type": "stream",
     "name": "stdout",
     "text": [
      "Epoch 1/5\n",
      "782/782 [==============================] - 1s 571us/step - loss: 0.4631 - accuracy: 0.8170 - auc: 0.9006\n",
      "Epoch 2/5\n",
      "782/782 [==============================] - 0s 563us/step - loss: 0.3306 - accuracy: 0.8774 - auc: 0.9473\n",
      "Epoch 3/5\n",
      "782/782 [==============================] - 0s 571us/step - loss: 0.2941 - accuracy: 0.8874 - auc: 0.9551\n",
      "Epoch 4/5\n",
      "782/782 [==============================] - 0s 559us/step - loss: 0.2752 - accuracy: 0.8932 - auc: 0.9591\n",
      "Epoch 5/5\n",
      "782/782 [==============================] - 0s 568us/step - loss: 0.2633 - accuracy: 0.8980 - auc: 0.9617\n"
     ]
    },
    {
     "output_type": "execute_result",
     "data": {
      "text/plain": [
       "<keras.callbacks.History at 0x298f7f400>"
      ]
     },
     "metadata": {},
     "execution_count": 7
    }
   ],
   "metadata": {}
  },
  {
   "cell_type": "markdown",
   "source": [
    "This gives as nice speed improvement. Our utilization graph will look something like this:\n",
    "\n",
    "<img src=\"full_utilization.png\" alt=\"Drawing\" style=\"width: 500px;\"/>\n",
    "\n",
    "*Image taken from https://www.tensorflow.org*"
   ],
   "metadata": {}
  },
  {
   "cell_type": "code",
   "execution_count": null,
   "source": [],
   "outputs": [],
   "metadata": {}
  }
 ],
 "metadata": {
  "kernelspec": {
   "display_name": "Python 3 (ipykernel)",
   "language": "python",
   "name": "python3"
  },
  "language_info": {
   "codemirror_mode": {
    "name": "ipython",
    "version": 3
   },
   "file_extension": ".py",
   "mimetype": "text/x-python",
   "name": "python",
   "nbconvert_exporter": "python",
   "pygments_lexer": "ipython3",
   "version": "3.9.12"
  }
 },
 "nbformat": 4,
 "nbformat_minor": 5
}